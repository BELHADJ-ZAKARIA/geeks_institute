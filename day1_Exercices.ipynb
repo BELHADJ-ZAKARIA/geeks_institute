{
  "nbformat": 4,
  "nbformat_minor": 0,
  "metadata": {
    "colab": {
      "provenance": []
    },
    "kernelspec": {
      "name": "python3",
      "display_name": "Python 3"
    },
    "language_info": {
      "name": "python"
    }
  },
  "cells": [
    {
      "cell_type": "markdown",
      "source": [
        "> 🌟**Exercise 1 : Hello World**\n",
        "\n",
        "*Print the following output in one line of code:*"
      ],
      "metadata": {
        "id": "Sp5BV-Xez6NW"
      }
    },
    {
      "cell_type": "code",
      "source": [
        "print(\"Hello World\\n\" * 4)"
      ],
      "metadata": {
        "colab": {
          "base_uri": "https://localhost:8080/"
        },
        "id": "adZ2oOlx0M4N",
        "outputId": "5db8ae9e-c57f-4ba6-f5b2-968be7492987"
      },
      "execution_count": null,
      "outputs": [
        {
          "output_type": "stream",
          "name": "stdout",
          "text": [
            "Hello World\n",
            "Hello World\n",
            "Hello World\n",
            "Hello World\n",
            "\n"
          ]
        }
      ]
    },
    {
      "cell_type": "markdown",
      "source": [
        "> **🌟 Exercise 2 : Some Math**\n",
        "\n",
        "*Write code to calculate the result of (99³) × 8 (i.e., 99 raised to the power of 3, then multiplied by 8).*"
      ],
      "metadata": {
        "id": "MraL1o6l0eOy"
      }
    },
    {
      "cell_type": "code",
      "source": [
        "print((99**3)*8)"
      ],
      "metadata": {
        "colab": {
          "base_uri": "https://localhost:8080/"
        },
        "id": "L9JbqZx90on7",
        "outputId": "78720d0a-a8e0-46ab-b8b5-ab12dd100ce4"
      },
      "execution_count": null,
      "outputs": [
        {
          "output_type": "stream",
          "name": "stdout",
          "text": [
            "7762392\n"
          ]
        }
      ]
    },
    {
      "cell_type": "markdown",
      "source": [
        ">🌟 **Exercise 3 : What’s your name ?**\n",
        "\n",
        "*Write code that asks the user for their name and determines whether or not you have the same name, print out a funny message based on the outcome.*"
      ],
      "metadata": {
        "id": "3ibfKQay0vAL"
      }
    },
    {
      "cell_type": "code",
      "source": [
        "name = input(\"What is your name : \")\n",
        "\n",
        "if name.upper() == \"ZAKARIA\":\n",
        "    print(\"\\nWhoa! We have the same name. Looks like destiny wants us to start a secret club!\")\n",
        "\n",
        "elif name.upper() != \"ZAKARIA\":\n",
        "    print(f\"\\nNice to meet you, {name}! Our names may differ, but I promise I won’t hold it against you\")"
      ],
      "metadata": {
        "colab": {
          "base_uri": "https://localhost:8080/"
        },
        "id": "3FIOUm971G-f",
        "outputId": "12c741d4-ab7c-47ba-c9e3-5625eb07971e"
      },
      "execution_count": null,
      "outputs": [
        {
          "output_type": "stream",
          "name": "stdout",
          "text": [
            "What is your name : Khalid\n",
            "\n",
            "Nice to meet you, Khalid! Our names may differ, but I promise I won’t hold it against you\n"
          ]
        }
      ]
    },
    {
      "cell_type": "markdown",
      "source": [
        "> 🌟 **Exercise 4 : Tall enough to ride a roller coaster**\n",
        "\n",
        "* Write code that will ask the user for their height in centimeters.\n",
        "* If they are over 145cm print a message that states they are tall enough to ride.\n",
        "* If they are not tall enough print a message that says they need to grow some more to ride."
      ],
      "metadata": {
        "id": "l3ekClSu1NrL"
      }
    },
    {
      "cell_type": "code",
      "source": [
        "height = int(input(\"What is your height in cm : \"))\n",
        "\n",
        "if height > 145:\n",
        "    print(\"\\nYou are tall enough to ride.\")\n",
        "elif height < 145:\n",
        "    print(\"\\nYou need to grow some more to ride.\")"
      ],
      "metadata": {
        "colab": {
          "base_uri": "https://localhost:8080/"
        },
        "id": "oV7WBhel1ji_",
        "outputId": "66133ec1-6f86-4950-f8e2-b3c2f1cc3429"
      },
      "execution_count": null,
      "outputs": [
        {
          "output_type": "stream",
          "name": "stdout",
          "text": [
            "What is your height in cm : 180\n",
            "\n",
            "You are tall enough to ride.\n"
          ]
        }
      ]
    },
    {
      "cell_type": "markdown",
      "source": [
        "> 🌟 **Exercise 5 : Favorite Numbers**\n",
        "\n",
        "* Create a set called my_fav_numbers with all your favorites numbers.\n",
        "* Add two new numbers to the set.\n",
        "* Remove the last number.\n",
        "* Create a set called friend_fav_numbers with your friend’s favorites numbers.\n",
        "* Concatenate my_fav_numbers and friend_fav_numbers to a new variable called our_fav_numbers."
      ],
      "metadata": {
        "id": "_6JLj4wd1tHM"
      }
    },
    {
      "cell_type": "code",
      "source": [
        "my_fav_numbers = {1, 2, 3, 4}\n",
        "\n",
        "my_fav_numbers.add(0)\n",
        "my_fav_numbers.add(5)\n",
        "\n",
        "my_fav_numbers.remove(5)\n",
        "\n",
        "friend_fav_numbers = {11, 12, 13}\n",
        "\n",
        "our_fav_numbers = my_fav_numbers.union(friend_fav_numbers)"
      ],
      "metadata": {
        "id": "kRyFOqXM15WL"
      },
      "execution_count": null,
      "outputs": []
    },
    {
      "cell_type": "markdown",
      "source": [
        "> 🌟 **Exercise 6:**\n",
        "*Tuple Given a tuple which value is integers, is it possible to add more integers to the tuple?*\n",
        "\n",
        "**Answear:**\n",
        "\n",
        "No, you cannot directly add more integers to a tuple because tuples in Python are immutable.\n",
        "\n",
        "If we want to add more integers, we create a new tuple by concatenation."
      ],
      "metadata": {
        "id": "NcG185vA18zw"
      }
    },
    {
      "cell_type": "markdown",
      "source": [
        "> 🌟 **Exercise 7: List**\n",
        "\n",
        "Using this list basket = [\"Banana\", \"Apples\", \"Oranges\", \"Blueberries\"]:*italicized text*\n",
        "\n",
        "* Remove Banana from the list.\n",
        "\n",
        "* Remove Blueberries from the list.\n",
        "\n",
        "* Add Kiwi to the end of the list.\n",
        "\n",
        "* Add Apples to the beginning of the list.\n",
        "\n",
        "* Count how many apples are in the basket.\n",
        "\n",
        "* Empty the basket.\n",
        "\n",
        "* Print(basket)"
      ],
      "metadata": {
        "id": "uQspAMYy2hci"
      }
    },
    {
      "cell_type": "code",
      "source": [
        "basket = [\"Banana\", \"Apples\", \"Oranges\", \"Blueberries\"]\n",
        "\n",
        "basket.remove(\"Banana\")\n",
        "\n",
        "basket.remove(\"Blueberries\")\n",
        "\n",
        "basket.append(\"Kiwi\")\n",
        "\n",
        "basket.append(\"Apples\")\n",
        "\n",
        "count = 0\n",
        "for i in range(0, len(basket)):\n",
        "    if basket[i] == \"Apples\":\n",
        "        count += 1\n",
        "\n",
        "print(f\"they are {count} \\\"Apples\\\" in the list\")\n",
        "\n",
        "basket.clear()\n",
        "\n",
        "print(basket)"
      ],
      "metadata": {
        "colab": {
          "base_uri": "https://localhost:8080/"
        },
        "id": "LUaFPyfk2vx8",
        "outputId": "72d62c2f-7975-4dc6-e907-63e36c08b5ba"
      },
      "execution_count": null,
      "outputs": [
        {
          "output_type": "stream",
          "name": "stdout",
          "text": [
            "they are 2 \"Apples\" in the list\n",
            "[]\n"
          ]
        }
      ]
    },
    {
      "cell_type": "markdown",
      "source": [
        "> 🌟 **Exercise 8 : Sandwich Orders**\n",
        "\n",
        "Using the list below :\n",
        "\n",
        "sandwich_orders = [\"Tuna sandwich\", \"Pastrami sandwich\", \"Avocado sandwich\", \"Pastrami sandwich\", \"Egg sandwich\", \"Chicken sandwich\", \"Pastrami sandwich\"].\n",
        "\n",
        "* The deli has run out of pastrami, use a while loop to remove all occurrences of Pastrami sandwich from sandwich_orders.\n",
        "\n",
        "* We need to prepare the orders of the clients:\n",
        "\n",
        "* Create an empty list called finished_sandwiches.\n",
        "\n",
        "* One by one, remove each sandwich from the sandwich_orders while adding them to the finished_sandwiches list.\n",
        "\n",
        "* After all the sandwiches have been made, print a message listing each sandwich that was made, such as:\n",
        "\n",
        "OUTPUT :\n",
        "\n",
        "I made your tuna sandwich\n",
        "\n",
        "I made your avocado sandwich\n",
        "\n",
        "I made your egg sandwich\n",
        "\n",
        "I made your chicken sandwich"
      ],
      "metadata": {
        "id": "RhOziU8723Lx"
      }
    },
    {
      "cell_type": "code",
      "source": [
        "sandwich_orders = [\"Tuna sandwich\", \"Pastrami sandwich\", \"Avocado sandwich\", \"Pastrami sandwich\", \"Egg sandwich\", \"Chicken sandwich\", \"Pastrami sandwich\"]\n",
        "\n",
        "while(\"Pastrami sandwich\" in sandwich_orders):\n",
        "    sandwich_orders.remove(\"Pastrami sandwich\")\n",
        "\n",
        "finished_sandwiches = []\n",
        "\n",
        "while (sandwich_orders != []):\n",
        "    finished_sandwiches.append(sandwich_orders[0])\n",
        "    sandwich_orders.remove(sandwich_orders[0])\n",
        "\n",
        "for i in finished_sandwiches:\n",
        "    print(f\"I made your {i.lower()}\")"
      ],
      "metadata": {
        "colab": {
          "base_uri": "https://localhost:8080/"
        },
        "id": "ZRNmwetE3LUY",
        "outputId": "c6831afd-5c08-4f20-d69f-9cfd0d8eafb1"
      },
      "execution_count": null,
      "outputs": [
        {
          "output_type": "stream",
          "name": "stdout",
          "text": [
            "I made your tuna sandwich\n",
            "I made your avocado sandwich\n",
            "I made your egg sandwich\n",
            "I made your chicken sandwich\n"
          ]
        }
      ]
    }
  ]
}